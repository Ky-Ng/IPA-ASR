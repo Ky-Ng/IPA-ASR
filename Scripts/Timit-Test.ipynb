{
 "cells": [
  {
   "cell_type": "markdown",
   "metadata": {},
   "source": [
    "# TIMIT Test\n",
    "- Testing the base Wav2Vec2Phoneme2 Model on TIMIT audio\n",
    "    - Note: this does not include TIMIT adjusted transcription (i.e. `kcl` to `k` and `k` to `REL`ease)"
   ]
  },
  {
   "cell_type": "code",
   "execution_count": 15,
   "metadata": {},
   "outputs": [],
   "source": [
    "from transformers import Wav2Vec2Processor, Wav2Vec2ForCTC\n",
    "import librosa\n",
    "import torch"
   ]
  },
  {
   "cell_type": "code",
   "execution_count": 16,
   "metadata": {},
   "outputs": [
    {
     "name": "stderr",
     "output_type": "stream",
     "text": [
      "/Users/kyleng/B_Organized/H_Passion_Projects/IPA-ASR/IPA-ASR/.venv/lib/python3.12/site-packages/transformers/tokenization_utils_base.py:1617: FutureWarning: `clean_up_tokenization_spaces` was not set. It will be set to `True` by default. This behavior will be deprecated in transformers v4.45, and will be then set to `False` by default. For more details check this issue: https://github.com/huggingface/transformers/issues/31884\n",
      "  warnings.warn(\n"
     ]
    }
   ],
   "source": [
    "# Load in Model\n",
    "processor = Wav2Vec2Processor.from_pretrained(\"facebook/wav2vec2-xlsr-53-espeak-cv-ft\")\n",
    "model = Wav2Vec2ForCTC.from_pretrained(\"facebook/wav2vec2-xlsr-53-espeak-cv-ft\")"
   ]
  },
  {
   "cell_type": "code",
   "execution_count": 17,
   "metadata": {},
   "outputs": [],
   "source": [
    "# Constants\n",
    "audio_path = \"./TestAudioData/TheMealWasCooked_NormalSpeed.wav\"\n",
    "TARGET_SR = 16000"
   ]
  },
  {
   "cell_type": "code",
   "execution_count": 18,
   "metadata": {},
   "outputs": [
    {
     "name": "stdout",
     "output_type": "stream",
     "text": [
      "(39765,)\n"
     ]
    }
   ],
   "source": [
    "# Resample Audio\n",
    "waveform, original_sr = librosa.load(audio_path)\n",
    "resampled_audio = librosa.resample(waveform, orig_sr=original_sr,target_sr=TARGET_SR)\n",
    "print(resampled_audio.shape)"
   ]
  },
  {
   "cell_type": "code",
   "execution_count": 19,
   "metadata": {},
   "outputs": [
    {
     "name": "stdout",
     "output_type": "stream",
     "text": [
      "['ð ə m iː l w ʌ z k ʊ k t b ə f oː ð ə b ɛ l ɹ ɪ ŋ']\n",
      "torch.Size([1, 39765])\n"
     ]
    }
   ],
   "source": [
    "# Process Audio\n",
    "input_values = processor(resampled_audio, return_tensors=\"pt\",sampling_rate=TARGET_SR).input_values\n",
    "input_values = torch.reshape(input_values, (1, -1))\n",
    "\n",
    "with torch.no_grad():\n",
    "    logits = model(input_values).logits\n",
    "\n",
    "# take argmax and decode\n",
    "predicted_ids = torch.argmax(logits, dim=-1)\n",
    "transcription = processor.batch_decode(predicted_ids)\n",
    "# => should give ['m ɪ s t ɚ k w ɪ l t ɚ ɪ z ð ɪ ɐ p ɑː s əl l ʌ v ð ə m ɪ d əl k l æ s ɪ z æ n d w iː aʊ ɡ l æ d t ə w ɛ l k ə m h ɪ z ɡ ɑː s p ə']\n",
    "# print(\"这是我第一次使用word2vec2phoneme\")\n",
    "print(transcription)\n",
    "print(input_values.shape)"
   ]
  },
  {
   "cell_type": "code",
   "execution_count": 20,
   "metadata": {},
   "outputs": [],
   "source": [
    "# Verify Audio\n",
    "import soundfile as sf\n",
    "sf.write('./TestAudioData/output.wav', resampled_audio, TARGET_SR)"
   ]
  }
 ],
 "metadata": {
  "kernelspec": {
   "display_name": ".venv",
   "language": "python",
   "name": "python3"
  },
  "language_info": {
   "codemirror_mode": {
    "name": "ipython",
    "version": 3
   },
   "file_extension": ".py",
   "mimetype": "text/x-python",
   "name": "python",
   "nbconvert_exporter": "python",
   "pygments_lexer": "ipython3",
   "version": "3.12.7"
  }
 },
 "nbformat": 4,
 "nbformat_minor": 2
}
